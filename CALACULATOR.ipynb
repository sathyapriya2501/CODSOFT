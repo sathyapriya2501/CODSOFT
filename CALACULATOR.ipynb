{
  "nbformat": 4,
  "nbformat_minor": 0,
  "metadata": {
    "colab": {
      "provenance": [],
      "authorship_tag": "ABX9TyPmdkSY7coiPuHrxXTGCuO6",
      "include_colab_link": true
    },
    "kernelspec": {
      "name": "python3",
      "display_name": "Python 3"
    },
    "language_info": {
      "name": "python"
    }
  },
  "cells": [
    {
      "cell_type": "markdown",
      "metadata": {
        "id": "view-in-github",
        "colab_type": "text"
      },
      "source": [
        "<a href=\"https://colab.research.google.com/github/sathyapriya2501/CODSOFT/blob/main/CALACULATOR.ipynb\" target=\"_parent\"><img src=\"https://colab.research.google.com/assets/colab-badge.svg\" alt=\"Open In Colab\"/></a>"
      ]
    },
    {
      "cell_type": "code",
      "execution_count": 2,
      "metadata": {
        "colab": {
          "base_uri": "https://localhost:8080/"
        },
        "id": "uK11jHzkzZRU",
        "outputId": "7a7328ae-2747-4499-c6a6-903dc4883640"
      },
      "outputs": [
        {
          "output_type": "stream",
          "name": "stdout",
          "text": [
            "Enter the first number: 55\n",
            "Enter the second number: 1\n",
            "Enter the operation (+, -, *, /): -\n",
            "Result: 54.0\n"
          ]
        }
      ],
      "source": [
        "# Prompt the user for input\n",
        "num1 = float(input(\"Enter the first number: \"))\n",
        "num2 = float(input(\"Enter the second number: \"))\n",
        "operation = input(\"Enter the operation (+, -, *, /): \")\n",
        "\n",
        "# Function to perform arithmetic operations\n",
        "def calculate(num1, num2, operation):\n",
        "    if operation == '+':\n",
        "        return num1 + num2\n",
        "    elif operation == '-':\n",
        "        return num1 - num2\n",
        "    elif operation == '*':\n",
        "        return num1 * num2\n",
        "    elif operation == '/':\n",
        "        if num2 == 0:\n",
        "            return \"Error: Division by zero\"\n",
        "        else:\n",
        "            return num1 / num2\n",
        "    else:\n",
        "        return \"Error: Invalid operation\"\n",
        "\n",
        "\n",
        "\n",
        "# Calculate and display the result\n",
        "result = calculate(num1, num2, operation)\n",
        "print(f\"Result: {result}\")"
      ]
    },
    {
      "cell_type": "markdown",
      "source": [],
      "metadata": {
        "id": "DVGGcMUl0SUE"
      }
    },
    {
      "cell_type": "code",
      "source": [],
      "metadata": {
        "id": "L_IBJ5oe0TXb"
      },
      "execution_count": null,
      "outputs": []
    }
  ]
}