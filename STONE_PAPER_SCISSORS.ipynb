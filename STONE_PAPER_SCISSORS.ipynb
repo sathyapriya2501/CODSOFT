{
  "nbformat": 4,
  "nbformat_minor": 0,
  "metadata": {
    "colab": {
      "provenance": [],
      "authorship_tag": "ABX9TyOOPsO2thFidvGC808hVmuJ",
      "include_colab_link": true
    },
    "kernelspec": {
      "name": "python3",
      "display_name": "Python 3"
    },
    "language_info": {
      "name": "python"
    }
  },
  "cells": [
    {
      "cell_type": "markdown",
      "metadata": {
        "id": "view-in-github",
        "colab_type": "text"
      },
      "source": [
        "<a href=\"https://colab.research.google.com/github/sathyapriya2501/CODSOFT/blob/main/STONE_PAPER_SCISSORS.ipynb\" target=\"_parent\"><img src=\"https://colab.research.google.com/assets/colab-badge.svg\" alt=\"Open In Colab\"/></a>"
      ]
    },
    {
      "cell_type": "code",
      "source": [
        "import random\n",
        "\n",
        "user_score = 0\n",
        "computer_score = 0\n",
        "\n",
        "while True:\n",
        "    print(\"Welcome to Rock, Paper, Scissors!\")\n",
        "    print(\"Choose your move:\")\n",
        "    print(\"1. Rock\")\n",
        "    print(\"2. Paper\")\n",
        "    print(\"3. Scissors\")\n",
        "\n",
        "    user_choice = int(input(\"Enter the number corresponding to your choice: \"))\n",
        "    if user_choice < 1 or user_choice > 3:\n",
        "        print(\"Invalid choice. Please choose a valid option.\")\n",
        "        continue\n",
        "\n",
        "    choices = [\"Rock\", \"Paper\", \"Scissors\"]\n",
        "    computer_choice = random.choice(choices)\n",
        "\n",
        "    print(f\"You chose: {choices[user_choice-1]}\")\n",
        "    print(f\"Computer chose: {computer_choice}\")\n",
        "\n",
        "    if user_choice == 1 and computer_choice == \"Scissors\" or user_choice == 2 and computer_choice == \"Rock\" or user_choice == 3 and computer_choice == \"Paper\":\n",
        "        print(\"Yahoo!You win!\")\n",
        "        user_score += 1\n",
        "    elif user_choice == 1 and computer_choice == \"Paper\" or user_choice == 2 and computer_choice == \"Scissors\" or user_choice == 3 and computer_choice == \"Rock\":\n",
        "        print(\"Oopss!Computer wins!\")\n",
        "        computer_score += 1\n",
        "    else:\n",
        "        print(\"It's a tie!\")\n",
        "\n",
        "    print(f\"Your Score: {user_score} - Computer Score: {computer_score}\")\n",
        "\n",
        "    play_again = input(\"Do you want to play again? (yes/no): \")\n",
        "    if play_again.lower() != \"yes\":\n",
        "        break"
      ],
      "metadata": {
        "colab": {
          "base_uri": "https://localhost:8080/"
        },
        "id": "zX57Kz9Y2LmZ",
        "outputId": "7e944207-d639-4b92-94c6-f5077c21c70d"
      },
      "execution_count": null,
      "outputs": [
        {
          "output_type": "stream",
          "name": "stdout",
          "text": [
            "Welcome to Rock, Paper, Scissors!\n",
            "Choose your move:\n",
            "1. Rock\n",
            "2. Paper\n",
            "3. Scissors\n"
          ]
        }
      ]
    }
  ]
}